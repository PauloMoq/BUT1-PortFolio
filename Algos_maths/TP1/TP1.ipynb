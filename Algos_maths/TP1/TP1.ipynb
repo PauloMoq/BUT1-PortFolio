{
 "cells": [
  {
   "cell_type": "markdown",
   "metadata": {},
   "source": [
    "# TP n°1 : Obtention d’un nombre pseudo-aléatoire"
   ]
  },
  {
   "cell_type": "markdown",
   "metadata": {},
   "source": [
    "\n",
    "Objectifs :\n",
    "Le but de ce TP est de présenter plusieurs méthodes pour obtenir des suites de nombre pseudo aléatoire.\n",
    "Vous êtes invités à programmer les différentes méthodes, afin que chacune soit présentée sous forme de sous-programme.\n",
    "Ces dernières se retrouvent dans le livre : Premiers pas en simulation de Yadolah Dodge et Giuseppe Melfi\n"
   ]
  },
  {
   "cell_type": "markdown",
   "metadata": {},
   "source": [
    "### Introduction : définir une suite récurrente"
   ]
  },
  {
   "cell_type": "markdown",
   "metadata": {},
   "source": [
    "Soit la suite $(U_n)$ définie par $U_{n+1} = \\frac{1}{\\sqrt{U_n + 3}}$ , et $U_0 = 0$. \\\n",
    "Ecrire un sous-programme permettant de calculer les éléments de la suite $U_n$"
   ]
  },
  {
   "cell_type": "code",
   "execution_count": 2,
   "metadata": {},
   "outputs": [
    {
     "name": "stdout",
     "output_type": "stream",
     "text": [
      "u0 = 0\n",
      "u1 = 0.5773502691896258\n",
      "u2 = 0.5287121214812434\n",
      "u3 = 0.5323434138530555\n",
      "u4 = 0.5320697157130204\n",
      "u5 = 0.5320903302085231\n",
      "u6 = 0.5320887774750569\n",
      "u7 = 0.532088894430209\n",
      "u8 = 0.5320888856208982\n",
      "u9 = 0.5320888862844342\n"
     ]
    }
   ],
   "source": [
    "# code attendu\n",
    "\n",
    "from math import sqrt\n",
    "def suiteRecu(n) :\n",
    "    if n == 0 :\n",
    "        return 0\n",
    "    else :\n",
    "        return 1/sqrt(suiteRecu(n-1) + 3)\n",
    "\n",
    "for i in range(10) :\n",
    "    print('u' + str(i) + ' =', suiteRecu(i))"
   ]
  },
  {
   "cell_type": "markdown",
   "metadata": {},
   "source": [
    "Que peut-on dire de cette suite? *On ne justifiera pas*\n",
    "\n",
    "Elle est récursive, on baisse le rang de n jusqu'à arrêt du programme.\n"
   ]
  },
  {
   "cell_type": "markdown",
   "metadata": {},
   "source": [
    "### **Méthode n°1 : Le carré médian (John Von Neumann 1951)**"
   ]
  },
  {
   "cell_type": "markdown",
   "metadata": {},
   "source": [
    "\n",
    "1) Obtention d’un nombre entier : Partons d’un nombre entier à 4 chiffres différents de 0 </br>\n",
    "Exemple : $N_0 = 1234$ </br>\n",
    "On élève le nombre au carré et on récupère les 4 chiffres entiers du milieu </br>\n",
    "(Remarque : on va choisir en fait, les 4 qui se suivent avant les 2 premiers chiffres à droite)</br>\n",
    "\n",
    "Exemple : $N_0 = 1234$, $N_0^2 = 1522756$,  on choisit $N_1 = 5574$, $N_1^2 = 30547729$, $N_2 = 5477$  etc.</br>\n",
    "\n",
    "Après avoir vérifié votre algo, l'écrire en python\n"
   ]
  },
  {
   "cell_type": "code",
   "execution_count": 10,
   "metadata": {},
   "outputs": [
    {
     "name": "stdout",
     "output_type": "stream",
     "text": [
      "méthode slice seul 5227\n",
      "méthode slice plusieurs [1234, 5227, 3215, 3362, 3030, 1809]\n",
      "méthode math [1234, 5227, 3215, 3362, 3030, 1809]\n"
     ]
    }
   ],
   "source": [
    "# code attendu\n",
    "def carreMedian(n) :\n",
    "    carre = n ** 2\n",
    "    chaine =  str(carre)[-6:-2]\n",
    "    return int(chaine)\n",
    "\n",
    "print(\"méthode slice seul\", carreMedian(1234))\n",
    "\n",
    "def neumann(nombre, k = 5) :\n",
    "    tableau = [nombre]\n",
    "    for i in range(k) :\n",
    "        carre = tableau[-1] ** 2\n",
    "        modif = str(carre)[-6:-2]\n",
    "        tableau.append(int(modif))\n",
    "    return tableau\n",
    "print(\"méthode slice plusieurs\", neumann(1234))\n",
    "\n",
    "def math(n, k = 5) :\n",
    "    tableau = [n]\n",
    "    for i in range(k) :\n",
    "        carre = tableau[-1] ** 2\n",
    "        modif = (carre//100) % 10000\n",
    "        tableau.append(int(modif))\n",
    "    return tableau\n",
    "print(\"méthode math\", math(1234))    "
   ]
  },
  {
   "cell_type": "markdown",
   "metadata": {},
   "source": [
    "2. Executer la séquence suivante"
   ]
  },
  {
   "cell_type": "code",
   "execution_count": 58,
   "metadata": {},
   "outputs": [
    {
     "name": "stdout",
     "output_type": "stream",
     "text": [
      "La date courante est : \n",
      "10:00:42 17/05/2022 \n",
      "et les minutes\n",
      "0\n"
     ]
    }
   ],
   "source": [
    "import datetime\n",
    "now = datetime.datetime.now()\n",
    "print (\"La date courante est : \")\n",
    "print (now.strftime(\"%H:%M:%S %d/%m/%Y \"))\n",
    "print(\"et les minutes\")\n",
    "min=int(now.strftime('%M'))\n",
    "print(min)"
   ]
  },
  {
   "cell_type": "markdown",
   "metadata": {},
   "source": [
    "3) Construire votre nombre $N_0$ à partir des minutes accolées aux secondes, afin que votre sous-programme génère automatiquement une suite de nombres aléatoires, sans appel à un nombre pour l’initialiser.\n"
   ]
  },
  {
   "cell_type": "code",
   "execution_count": 62,
   "metadata": {},
   "outputs": [
    {
     "name": "stdout",
     "output_type": "stream",
     "text": [
      "156\n"
     ]
    }
   ],
   "source": [
    "# code attendu\n",
    "from time import sleep\n",
    "sleep(1)\n",
    "now = datetime.datetime.now()\n",
    "n0 = int(now.strftime('%M'))*100 + int(now.strftime('%S'))\n",
    "#print(n0)\n",
    "print(neumann(n0)[4])"
   ]
  },
  {
   "cell_type": "markdown",
   "metadata": {},
   "source": [
    "4) Tester votre programme pour 10, puis 20 itérations."
   ]
  },
  {
   "cell_type": "markdown",
   "metadata": {},
   "source": [
    "**Compléments méthode 1**"
   ]
  },
  {
   "cell_type": "markdown",
   "metadata": {},
   "source": [
    "5) Obtention d’un nombre réel entre 0 et 1: le travail est le même en divisant le nombre obtenu par 10000 une fois son calcul obtenu </br>\n",
    "Exemple : avec pour support la suite précédente on a  $U_0 = 0.123$, $U_1 = 0.2275$, $U_2 = 0.7562$  "
   ]
  },
  {
   "cell_type": "code",
   "execution_count": null,
   "metadata": {},
   "outputs": [],
   "source": [
    "# code attendu"
   ]
  },
  {
   "cell_type": "markdown",
   "metadata": {},
   "source": [
    "### **Méthode 2 : Méthode de congruence simple (théorème de Hull et Dobell 1962)**"
   ]
  },
  {
   "cell_type": "markdown",
   "metadata": {},
   "source": [
    "\n",
    " On choisit trois nombres entiers ($a$, $b$ et $m$) tels que : \n",
    "- $b$ et $m$ sont premiers entre eux </br>\n",
    "- $(a-1) = k \\times n_1 \\times n_2 \\times $ … si $m$ a pour décomposition en facteurs premiers $m = n_1^{k_1} \\times n_2^{k_2} \\times $… avec la particularité que si $m$ est multiple de $4$, $(a-1)$ aussi</br>\n",
    "\n",
    "Alors la suite $N_i = (a \\times N_{i-1} + b) \\bmod m$ va générer des nombres aléatoires sur $n$ éléments\n",
    "\n",
    "Cas le plus simple : Si $m = 2 k$, on peut prendre $a = 4 \\times c + 1$ et $b$ impair ($c$ et $k$ deux entiers)\n",
    "\n",
    "1) Choisir trois triplets différents : $(a, b, m)$ qui vérifient les conditions précédentes \n"
   ]
  },
  {
   "cell_type": "markdown",
   "metadata": {},
   "source": []
  },
  {
   "cell_type": "markdown",
   "metadata": {},
   "source": [
    "\n",
    "2) Construire votre programme pour générer les nombres aléatoires. On prendra par défaut $N_0 = 1$\n"
   ]
  },
  {
   "cell_type": "code",
   "execution_count": null,
   "metadata": {},
   "outputs": [],
   "source": [
    "# code attendu"
   ]
  },
  {
   "cell_type": "markdown",
   "metadata": {},
   "source": [
    "3) Tester votre programme avec les différents triplets proposés, puis le minimal standard, obtenu par Park et Miller en 1988 et qui assure des suites valables de nombres aléatoires :\\\n",
    "$a=75$\\\n",
    "$m=2^{31}-1$\\\n",
    "$b=0$ (ne respecte pas les conditions exposées ci-dessus)"
   ]
  },
  {
   "cell_type": "code",
   "execution_count": null,
   "metadata": {},
   "outputs": [],
   "source": [
    "# code attendu"
   ]
  },
  {
   "cell_type": "markdown",
   "metadata": {},
   "source": [
    "4) En choisissant le nombre d’itérations de la suite par rapport à la date et l’heure, créer un sous-programme `alea_entier(n)`, qui permet de donner un nombre réel aléatoire entre $0$ et $n$\n"
   ]
  },
  {
   "cell_type": "code",
   "execution_count": null,
   "metadata": {},
   "outputs": [],
   "source": [
    "# code attendu"
   ]
  },
  {
   "cell_type": "markdown",
   "metadata": {},
   "source": [
    "**Compléments méthode 2**"
   ]
  },
  {
   "cell_type": "markdown",
   "metadata": {},
   "source": [
    "4) Vous allez utiliser matplotlib pour afficher les suites ainsi obtenues sous la forme $(N_i, N_{i+1})$\n",
    "5) Testez avec $N_0=1, N_i = 9 \\times N_{i-1} + 3 \\bmod 32$ et $N_0=1, N_i=9 \\times N_{i-1}+3 \\bmod 256$.\\\n",
    "Que pensez-vous du résultat ?\n"
   ]
  },
  {
   "cell_type": "markdown",
   "metadata": {},
   "source": [
    "### **Méthode 3 : Méthode de congruence avec retard**"
   ]
  },
  {
   "cell_type": "markdown",
   "metadata": {},
   "source": [
    "Cette méthode ne sera pas programmée </br>\n",
    "On reprend le même modèle que ci-dessus, mais la suite est construite sous la forme : $$N_i=(a \\times N_{i-r}+b) \\bmod n$$ la suite ne se sert pas du précédent, mais d’un nombre plus lointain\n",
    "\n",
    "1) avec $a=5, b=5, n=32$ et $r=4$\\\n",
    "Il va nous falloir définir $N_0, N_1, N_2, N_3$ pour pouvoir démarrer la suite, par exemple :\\\n",
    "$N_0=1, N_1=2, N_2=0, N_3=7$ définir la valeur de $N_4, N_5 et N_6$\n"
   ]
  },
  {
   "cell_type": "markdown",
   "metadata": {},
   "source": []
  },
  {
   "cell_type": "markdown",
   "metadata": {},
   "source": [
    "**Compléments méthode 3 :**"
   ]
  },
  {
   "cell_type": "markdown",
   "metadata": {},
   "source": [
    "2) Programmer la méthode de congruence avec retard, sachant qu’on utilise la méthode de congruence pour générer les $r$ premiers éléments nécessaires, avant le passage à la méthode avec retard </br>\n",
    "3) Utilisez `matplotlib` pour afficher les points $(N_i, N_{i+1})$, on prendra $n=256$, $a=5$, $b=1$, $r=6$, les 6 premiers termes étant générés avec $n=8$, $a=5$, $b=1$\n"
   ]
  },
  {
   "cell_type": "code",
   "execution_count": null,
   "metadata": {},
   "outputs": [],
   "source": [
    "# code attendu"
   ]
  },
  {
   "cell_type": "markdown",
   "metadata": {},
   "source": [
    "**Pour aller plus loin :**"
   ]
  },
  {
   "cell_type": "markdown",
   "metadata": {},
   "source": [
    "- On peut décider d’ajouter des termes $$N_i=(a \\times (N_{i-s} + N_{i-r} + b ) \\bmod n$$ ou encore tous les précédents termes, en s’inspirant de la suite de Fibonacci… </br>\n",
    "- On peut aussi mélanger les termes pour que la suite soit encore plus aléatoire (méthode de congruence avec mélange)</br>\n",
    "- On peut aussi travailler avec $n=p$ premier et effectuer $$N_i=a \\times inverse(N_{i-1} + b) \\bmod n$$\n",
    " l’inverse étant bien l’inverse modulaire (méthode de l’inverse en congruences trouvée par Eichenauer et Lehn en 1986)\n"
   ]
  }
 ],
 "metadata": {
  "interpreter": {
   "hash": "a861966233730d20fec60d015397cd4146b46dcfaacec1108c5e38f50e036a17"
  },
  "kernelspec": {
   "display_name": "Python 3.10.4 64-bit (windows store)",
   "language": "python",
   "name": "python3"
  },
  "language_info": {
   "codemirror_mode": {
    "name": "ipython",
    "version": 3
   },
   "file_extension": ".py",
   "mimetype": "text/x-python",
   "name": "python",
   "nbconvert_exporter": "python",
   "pygments_lexer": "ipython3",
   "version": "3.10.4"
  },
  "orig_nbformat": 4
 },
 "nbformat": 4,
 "nbformat_minor": 2
}
