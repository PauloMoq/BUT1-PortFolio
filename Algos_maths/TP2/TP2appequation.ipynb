{
 "cells": [
  {
   "cell_type": "markdown",
   "metadata": {},
   "source": [
    "# TP n°2 : Approximation des racines des équations"
   ]
  },
  {
   "cell_type": "markdown",
   "metadata": {},
   "source": [
    "Objectifs : \\\n",
    "Le but de ce TP est de programmer les méthodes pour obtenir les racines des équations."
   ]
  },
  {
   "cell_type": "markdown",
   "metadata": {},
   "source": [
    "### Etape 1 : Isoler la racine"
   ]
  },
  {
   "cell_type": "markdown",
   "metadata": {},
   "source": [
    "Evaluer les instructions suivantes"
   ]
  },
  {
   "cell_type": "code",
   "execution_count": 1,
   "metadata": {},
   "outputs": [
    {
     "data": {
      "image/png": "[encoded data removed]",
      "text/plain": [
       "<Figure size 432x288 with 1 Axes>"
      ]
     },
     "metadata": {
      "needs_background": "light"
     },
     "output_type": "display_data"
    }
   ],
   "source": [
    "#HURDEBOURCQ PAUL\n",
    "\n",
    "import math as m\n",
    "import matplotlib.pyplot as plt\n",
    "import numpy as np\n",
    "def P(x):\n",
    "    return 3*m.pow(x,3)+2*m.pow(x,2)-x-3\n",
    "\n",
    "valeurs_x=np.linspace(-5,5,70)\n",
    "valeurs_y=[]\n",
    "for i in valeurs_x:\n",
    "    valeurs_y.append(P(i))\n",
    "plt.plot(valeurs_x,valeurs_y)\n",
    "plt.xlim(-5, 5)\n",
    "plt.show()\n",
    "\n"
   ]
  },
  {
   "cell_type": "markdown",
   "metadata": {},
   "source": [
    "Dessiner la courbe sur [0,2] \\\n",
    "Justifier que la fonction $f(x)=3x^3+2x^2-x-3$ admet une unique racine sur [0,2]"
   ]
  },
  {
   "cell_type": "code",
   "execution_count": 7,
   "metadata": {},
   "outputs": [
    {
     "data": {
      "image/png": "[encoded data removed]",
      "text/plain": [
       "<Figure size 432x288 with 1 Axes>"
      ]
     },
     "metadata": {
      "needs_background": "light"
     },
     "output_type": "display_data"
    }
   ],
   "source": [
    "#dessin de la courbe sur [0,2]\n",
    "import math as m\n",
    "import matplotlib.pyplot as plt\n",
    "import numpy as np\n",
    "def P(x):\n",
    "    return 3*m.pow(x,3)+2*m.pow(x,2)-x-3\n",
    "\n",
    "valeurs_x=np.linspace(0,2,70)\n",
    "valeurs_y=[]\n",
    "for i in valeurs_x:\n",
    "    valeurs_y.append(P(i))\n",
    "plt.plot(valeurs_x,valeurs_y)\n",
    "plt.xlim(0, 2)\n",
    "plt.show()"
   ]
  },
  {
   "cell_type": "markdown",
   "metadata": {},
   "source": [
    "justification d'une seule racine\n",
    "\n",
    "strictement décroissante et continue sur cet intervalle donc la courbe passe forcément par 0\n",
    "\n",
    "f(0) = -3\n",
    "f(2) = 27\n",
    "\n",
    "il existe donc un x pour f(x) = 0"
   ]
  },
  {
   "cell_type": "markdown",
   "metadata": {},
   "source": [
    "### Méthode n°1 : La dichotomie"
   ]
  },
  {
   "cell_type": "markdown",
   "metadata": {},
   "source": [
    "Programmer la méthode de dichotomie donnée en cours, le nombre d'itérations sera paramétrable. \\\n",
    "Tester la méthode sur la fonction ci-dessus sur l'intervalle [0,2] et 3, puis 10 itérations."
   ]
  },
  {
   "cell_type": "code",
   "execution_count": 11,
   "metadata": {},
   "outputs": [
    {
     "name": "stdout",
     "output_type": "stream",
     "text": [
      "0.875\n",
      "0.9091796875\n"
     ]
    }
   ],
   "source": [
    "def dichotomie(intervalle_inf, intervalle_sup, nb) :\n",
    "    milieu = (intervalle_inf + intervalle_sup) / 2\n",
    "    if nb == 0 :\n",
    "        return milieu\n",
    "\n",
    "    # x c'est milieu\n",
    "    y = P(milieu)\n",
    "    if y == 0 :\n",
    "        return milieu\n",
    "\n",
    "    if y < 0 :\n",
    "        return dichotomie(milieu, intervalle_sup, nb - 1)\n",
    "\n",
    "    else :\n",
    "        return dichotomie(intervalle_inf, milieu, nb - 1)\n",
    "\n",
    "print(dichotomie(0,2,3))\n",
    "print(dichotomie(0,2,10))"
   ]
  },
  {
   "cell_type": "markdown",
   "metadata": {},
   "source": [
    "### Méthode n°2 : La méthode de la sécante"
   ]
  },
  {
   "cell_type": "markdown",
   "metadata": {},
   "source": [
    "Programmer la méthode de la sécante donnée en cours. \\\n",
    "Tester la méthode sur la fonction ci-dessus sur l'intervalle [0,2]et 3 puis 10 itérations"
   ]
  },
  {
   "cell_type": "code",
   "execution_count": 1,
   "metadata": {},
   "outputs": [
    {
     "data": {
      "text/plain": [
       "8"
      ]
     },
     "execution_count": 1,
     "metadata": {},
     "output_type": "execute_result"
    }
   ],
   "source": [
    "a = 5\n",
    "b = 8\n",
    "\n",
    "def secante(n) :\n",
    "    if n == 0 :\n",
    "        return a\n",
    "    if n == 1 :\n",
    "        return b\n",
    "    return secante(n-1)-P(secante(n-1))*(secante(n-1)-secante(n-2))/(P(secante(n-1)-P(n-2)))\n",
    "\n",
    "secante(1)"
   ]
  },
  {
   "cell_type": "markdown",
   "metadata": {},
   "source": [
    "### Méthode n°3 : Méthode de Newton"
   ]
  },
  {
   "cell_type": "markdown",
   "metadata": {},
   "source": [
    "Evaluer la cellule ci-après"
   ]
  },
  {
   "cell_type": "code",
   "execution_count": 8,
   "metadata": {},
   "outputs": [
    {
     "name": "stdout",
     "output_type": "stream",
     "text": [
      "1.4142135623746899\n",
      "1.4142135623731118\n",
      "1.414213562373107\n"
     ]
    }
   ],
   "source": [
    "def Newton(f, df, x, e):\n",
    "    a = f(x)\n",
    "    while abs(a) > e:\n",
    "        a = f(x)\n",
    "        x -= a/df(x)\n",
    "    return(x)\n",
    "\n",
    "fonction = lambda x: x**2 - 2\n",
    "df = lambda x: 2*x\n",
    "print(Newton(fonction,df,1,1e-5))\n",
    "print(Newton(fonction,df,3,1e-5))\n",
    "print(Newton(fonction,df,11,1e-5))"
   ]
  },
  {
   "cell_type": "markdown",
   "metadata": {},
   "source": [
    "Programmer la méthode de Newton donnée en cours. \\\n",
    "Tester la méthode sur la fonction ci-dessus au démarrage de 0, puis de 2 et 3 puis 10 itérations"
   ]
  },
  {
   "cell_type": "markdown",
   "metadata": {},
   "source": [
    "### Comparaison des 3 méthodes"
   ]
  },
  {
   "cell_type": "markdown",
   "metadata": {},
   "source": [
    "Comparer les 3 méthodes sur les fonctions ci-dessous"
   ]
  },
  {
   "cell_type": "markdown",
   "metadata": {},
   "source": [
    "$f(x)=-2+e^-x$ sur l'intervalle[-1,0]\\\n",
    "$g(x)=Ln(10x^4-3x^3+x²-3)$ sur l'intervalle[-1,-0.6]\\\n",
    "$h(x)=Cos(3x+4)$ sur l'intervalle[0,1]\n"
   ]
  },
  {
   "cell_type": "markdown",
   "metadata": {},
   "source": [
    "### Compléments "
   ]
  },
  {
   "cell_type": "markdown",
   "metadata": {},
   "source": [
    "On cherche plutôt à atteindre rapidement une valeur voulue plutôt que de travailler sur un nombre d’itérations. Modifier les trois programmes afin de définir un arrêt lorsque $|f(valeur)|<10^{-3}$. \\\n",
    "On laissera l’affichage du nombre d’itérations.\\\n",
    "Comparer l'efficacité des 3 programmes"
   ]
  }
 ],
 "metadata": {
  "interpreter": {
   "hash": "a861966233730d20fec60d015397cd4146b46dcfaacec1108c5e38f50e036a17"
  },
  "kernelspec": {
   "display_name": "Python 3.10.4 64-bit (windows store)",
   "language": "python",
   "name": "python3"
  },
  "language_info": {
   "codemirror_mode": {
    "name": "ipython",
    "version": 3
   },
   "file_extension": ".py",
   "mimetype": "text/x-python",
   "name": "python",
   "nbconvert_exporter": "python",
   "pygments_lexer": "ipython3",
   "version": "3.10.4"
  },
  "orig_nbformat": 4
 },
 "nbformat": 4,
 "nbformat_minor": 2
}
