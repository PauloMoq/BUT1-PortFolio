{
 "cells": [
  {
   "cell_type": "markdown",
   "metadata": {},
   "source": [
    "# TP n°3 : Obtention d'un minimum local"
   ]
  },
  {
   "cell_type": "markdown",
   "metadata": {},
   "source": [
    "Objectifs : \\\n",
    "Le but de ce TP est de préparer l'algorithme de la descente de gradient."
   ]
  },
  {
   "cell_type": "markdown",
   "metadata": {},
   "source": [
    "### Partie 1 : calcul de la suite qui converge vers l'extremum"
   ]
  },
  {
   "cell_type": "markdown",
   "metadata": {},
   "source": [
    "Commencer par tracer la fonction $f(x)=(x-2)^2$ sur [-2,10]"
   ]
  },
  {
   "cell_type": "code",
   "execution_count": 8,
   "metadata": {},
   "outputs": [
    {
     "data": {
      "image/png": "[encoded data removed]",
      "text/plain": [
       "<Figure size 432x288 with 1 Axes>"
      ]
     },
     "metadata": {
      "needs_background": "light"
     },
     "output_type": "display_data"
    }
   ],
   "source": [
    "#HURDEBOURCQ PAUL\n",
    "\n",
    "#code attendu\n",
    "import math as m\n",
    "import matplotlib.pyplot as plt\n",
    "import numpy as np\n",
    "def F(x):\n",
    "    return m.pow(x-2,2)\n",
    "\n",
    "valeurs_x=np.linspace(-2,10,100)\n",
    "valeurs_y=[]\n",
    "for i in valeurs_x:\n",
    "    valeurs_y.append(F(i))\n",
    "plt.plot(valeurs_x,valeurs_y)\n",
    "plt.xlim(-2, 10)\n",
    "plt.show()\n",
    "\n"
   ]
  },
  {
   "cell_type": "markdown",
   "metadata": {},
   "source": [
    "Faire calculer les éléments de la suite qui permet de converger vers le minimum de cette fonction, en partant de 8, et en utilisant un alpha de 0.2 (cf suite p 12 du cours). On pourra commencer par 7 itérations"
   ]
  },
  {
   "cell_type": "code",
   "execution_count": 1,
   "metadata": {},
   "outputs": [
    {
     "name": "stdout",
     "output_type": "stream",
     "text": [
      "8\n"
     ]
    },
    {
     "ename": "NameError",
     "evalue": "name 'F' is not defined",
     "output_type": "error",
     "traceback": [
      "\u001b[1;31m---------------------------------------------------------------------------\u001b[0m",
      "\u001b[1;31mNameError\u001b[0m                                 Traceback (most recent call last)",
      "\u001b[1;32mc:\\Users\\moqmo\\OneDrive\\Documents\\BUT1\\BUT1_S2\\Python\\R2-09\\Conoir\\TP3\\TP3minlocal.ipynb Cell 7'\u001b[0m in \u001b[0;36m<cell line: 13>\u001b[1;34m()\u001b[0m\n\u001b[0;32m     <a href='vscode-notebook-cell:/c%3A/Users/moqmo/OneDrive/Documents/BUT1/BUT1_S2/Python/R2-09/Conoir/TP3/TP3minlocal.ipynb#ch0000006?line=10'>11</a>\u001b[0m     \u001b[39mreturn\u001b[39;00m x(n\u001b[39m-\u001b[39m\u001b[39m1\u001b[39m)\u001b[39m-\u001b[39ma\u001b[39m*\u001b[39mmisc\u001b[39m.\u001b[39mderivative(F,x(n\u001b[39m-\u001b[39m\u001b[39m1\u001b[39m))\n\u001b[0;32m     <a href='vscode-notebook-cell:/c%3A/Users/moqmo/OneDrive/Documents/BUT1/BUT1_S2/Python/R2-09/Conoir/TP3/TP3minlocal.ipynb#ch0000006?line=12'>13</a>\u001b[0m \u001b[39mfor\u001b[39;00m i \u001b[39min\u001b[39;00m \u001b[39mrange\u001b[39m(\u001b[39m6\u001b[39m) :\n\u001b[1;32m---> <a href='vscode-notebook-cell:/c%3A/Users/moqmo/OneDrive/Documents/BUT1/BUT1_S2/Python/R2-09/Conoir/TP3/TP3minlocal.ipynb#ch0000006?line=13'>14</a>\u001b[0m     \u001b[39mprint\u001b[39m(x(i))\n",
      "\u001b[1;32mc:\\Users\\moqmo\\OneDrive\\Documents\\BUT1\\BUT1_S2\\Python\\R2-09\\Conoir\\TP3\\TP3minlocal.ipynb Cell 7'\u001b[0m in \u001b[0;36mx\u001b[1;34m(n)\u001b[0m\n\u001b[0;32m      <a href='vscode-notebook-cell:/c%3A/Users/moqmo/OneDrive/Documents/BUT1/BUT1_S2/Python/R2-09/Conoir/TP3/TP3minlocal.ipynb#ch0000006?line=8'>9</a>\u001b[0m \u001b[39mif\u001b[39;00m n \u001b[39m==\u001b[39m \u001b[39m0\u001b[39m :\n\u001b[0;32m     <a href='vscode-notebook-cell:/c%3A/Users/moqmo/OneDrive/Documents/BUT1/BUT1_S2/Python/R2-09/Conoir/TP3/TP3minlocal.ipynb#ch0000006?line=9'>10</a>\u001b[0m     \u001b[39mreturn\u001b[39;00m \u001b[39m8\u001b[39m\n\u001b[1;32m---> <a href='vscode-notebook-cell:/c%3A/Users/moqmo/OneDrive/Documents/BUT1/BUT1_S2/Python/R2-09/Conoir/TP3/TP3minlocal.ipynb#ch0000006?line=10'>11</a>\u001b[0m \u001b[39mreturn\u001b[39;00m x(n\u001b[39m-\u001b[39m\u001b[39m1\u001b[39m)\u001b[39m-\u001b[39ma\u001b[39m*\u001b[39mmisc\u001b[39m.\u001b[39mderivative(F,x(n\u001b[39m-\u001b[39m\u001b[39m1\u001b[39m))\n",
      "\u001b[1;31mNameError\u001b[0m: name 'F' is not defined"
     ]
    }
   ],
   "source": [
    "#code attendu\n",
    "\n",
    "from scipy import misc\n",
    "# fonction F, 0 pour l'itération\n",
    "\n",
    "a = 0,2\n",
    "\n",
    "def x(n) :\n",
    "    if n == 0 :\n",
    "        return 8\n",
    "    return x(n-1)-a*misc.derivative(F,x(n-1))\n",
    "\n",
    "for i in range(6) :\n",
    "    print(x(i))\n"
   ]
  },
  {
   "cell_type": "markdown",
   "metadata": {},
   "source": [
    "### Partie 2 : représentation graphique de la suite"
   ]
  },
  {
   "cell_type": "markdown",
   "metadata": {},
   "source": [
    "Indiquer quelle est l'équation de la tangente au point 8 (rappel : y =f '(a)*(x-a) + f(a))"
   ]
  },
  {
   "cell_type": "markdown",
   "metadata": {},
   "source": [
    "équation : "
   ]
  },
  {
   "cell_type": "markdown",
   "metadata": {},
   "source": [
    "Evaluer les instructions suivantes"
   ]
  },
  {
   "cell_type": "code",
   "execution_count": null,
   "metadata": {},
   "outputs": [],
   "source": [
    "import numpy as np\n",
    "import matplotlib.pyplot as plt\n",
    "\n",
    "k = 2*np.pi\n",
    "w = 2*np.pi\n",
    "dt = 0.01  \n",
    "\n",
    "x = np.linspace(0, 3, 151)\n",
    "\n",
    "for i in range(50):\n",
    "    t = i * dt\n",
    "    y = np.cos(k*x - w*t)\n",
    "    plt.plot(x, y)\n",
    "    plt.pause(0.01) # pause avec duree en secondes\n",
    "\n",
    "plt.show()"
   ]
  },
  {
   "cell_type": "markdown",
   "metadata": {},
   "source": [
    "Utiliser la méthode exposée, pour afficher les tangentes successives aux points d'abscisse donnés par la suite, sur 7 itérations"
   ]
  },
  {
   "cell_type": "code",
   "execution_count": null,
   "metadata": {},
   "outputs": [],
   "source": [
    "#code attendu"
   ]
  },
  {
   "cell_type": "markdown",
   "metadata": {},
   "source": [
    "### Compléments : passage en 3D"
   ]
  },
  {
   "cell_type": "markdown",
   "metadata": {},
   "source": [
    "Evaluer les instructions suivantes"
   ]
  },
  {
   "cell_type": "code",
   "execution_count": null,
   "metadata": {},
   "outputs": [],
   "source": [
    "import numpy as np\n",
    "import matplotlib.pyplot as plt\n",
    "from mpl_toolkits import mplot3d\n",
    "from sympy import diff \n",
    "\n",
    "fig = plt.figure(figsize=(8,6))\n",
    "\n",
    "# Plot a 3D surface\n",
    "xdata = np.linspace(-3,3,100)\n",
    "ydata = np.linspace(-3,3,100)\n",
    "X,Y = np.meshgrid(xdata,ydata)\n",
    "Z = X**2+Y**2\n",
    "ax3d = plt.axes(projection='3d')\n",
    "\n",
    "\n",
    "ax3d.plot_surface(X, Y, Z)\n",
    "ax3d.set_title('fonction x²+y²')\n",
    "ax3d.set_xlabel('X')\n",
    "ax3d.set_ylabel('Y')\n",
    "ax3d.set_zlabel('Z')\n",
    "\n",
    "plt.show()"
   ]
  },
  {
   "cell_type": "markdown",
   "metadata": {},
   "source": [
    "Ajouter à ce dessin le plan tangent au point (1,1,f(1,1))"
   ]
  },
  {
   "cell_type": "markdown",
   "metadata": {},
   "source": [
    "Définir les 2 suites qui permettent de converger vers la valeur minimale de cette fonction"
   ]
  },
  {
   "cell_type": "code",
   "execution_count": null,
   "metadata": {},
   "outputs": [],
   "source": [
    "#code attendu"
   ]
  },
  {
   "cell_type": "markdown",
   "metadata": {},
   "source": [
    "Représenter graphiquement les plans tangents successifs"
   ]
  },
  {
   "cell_type": "code",
   "execution_count": null,
   "metadata": {},
   "outputs": [],
   "source": [
    "#code attendu"
   ]
  }
 ],
 "metadata": {
  "interpreter": {
   "hash": "a861966233730d20fec60d015397cd4146b46dcfaacec1108c5e38f50e036a17"
  },
  "kernelspec": {
   "display_name": "Python 3.10.4 64-bit (windows store)",
   "language": "python",
   "name": "python3"
  },
  "language_info": {
   "codemirror_mode": {
    "name": "ipython",
    "version": 3
   },
   "file_extension": ".py",
   "mimetype": "text/x-python",
   "name": "python",
   "nbconvert_exporter": "python",
   "pygments_lexer": "ipython3",
   "version": "3.10.4"
  },
  "orig_nbformat": 4
 },
 "nbformat": 4,
 "nbformat_minor": 2
}
